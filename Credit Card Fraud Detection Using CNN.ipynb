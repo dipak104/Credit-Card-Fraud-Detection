{
 "cells": [
  {
   "cell_type": "code",
   "execution_count": 37,
   "metadata": {},
   "outputs": [
    {
     "name": "stdout",
     "output_type": "stream",
     "text": [
      "2.0.0-rc0\n"
     ]
    }
   ],
   "source": [
    "import tensorflow as tf\n",
    "from tensorflow.keras import Sequential\n",
    "from tensorflow.keras.layers import Dense, Flatten, Dropout, BatchNormalization, Conv1D, MaxPool1D\n",
    "from tensorflow.keras.optimizers import Adam\n",
    "print(tf.__version__)"
   ]
  },
  {
   "cell_type": "code",
   "execution_count": 6,
   "metadata": {},
   "outputs": [],
   "source": [
    "import pandas as pd\n",
    "import numpy as np\n",
    "import seaborn as sns\n",
    "import matplotlib.pyplot as plt\n",
    "from sklearn.model_selection import train_test_split\n",
    "from sklearn.preprocessing import StandardScaler"
   ]
  },
  {
   "cell_type": "code",
   "execution_count": 8,
   "metadata": {},
   "outputs": [
    {
     "data": {
      "text/html": [
       "<div>\n",
       "<style scoped>\n",
       "    .dataframe tbody tr th:only-of-type {\n",
       "        vertical-align: middle;\n",
       "    }\n",
       "\n",
       "    .dataframe tbody tr th {\n",
       "        vertical-align: top;\n",
       "    }\n",
       "\n",
       "    .dataframe thead th {\n",
       "        text-align: right;\n",
       "    }\n",
       "</style>\n",
       "<table border=\"1\" class=\"dataframe\">\n",
       "  <thead>\n",
       "    <tr style=\"text-align: right;\">\n",
       "      <th></th>\n",
       "      <th>Time</th>\n",
       "      <th>V1</th>\n",
       "      <th>V2</th>\n",
       "      <th>V3</th>\n",
       "      <th>V4</th>\n",
       "      <th>V5</th>\n",
       "      <th>V6</th>\n",
       "      <th>V7</th>\n",
       "      <th>V8</th>\n",
       "      <th>V9</th>\n",
       "      <th>...</th>\n",
       "      <th>V21</th>\n",
       "      <th>V22</th>\n",
       "      <th>V23</th>\n",
       "      <th>V24</th>\n",
       "      <th>V25</th>\n",
       "      <th>V26</th>\n",
       "      <th>V27</th>\n",
       "      <th>V28</th>\n",
       "      <th>Amount</th>\n",
       "      <th>Class</th>\n",
       "    </tr>\n",
       "  </thead>\n",
       "  <tbody>\n",
       "    <tr>\n",
       "      <td>0</td>\n",
       "      <td>0.0</td>\n",
       "      <td>-1.359807</td>\n",
       "      <td>-0.072781</td>\n",
       "      <td>2.536347</td>\n",
       "      <td>1.378155</td>\n",
       "      <td>-0.338321</td>\n",
       "      <td>0.462388</td>\n",
       "      <td>0.239599</td>\n",
       "      <td>0.098698</td>\n",
       "      <td>0.363787</td>\n",
       "      <td>...</td>\n",
       "      <td>-0.018307</td>\n",
       "      <td>0.277838</td>\n",
       "      <td>-0.110474</td>\n",
       "      <td>0.066928</td>\n",
       "      <td>0.128539</td>\n",
       "      <td>-0.189115</td>\n",
       "      <td>0.133558</td>\n",
       "      <td>-0.021053</td>\n",
       "      <td>149.62</td>\n",
       "      <td>0</td>\n",
       "    </tr>\n",
       "    <tr>\n",
       "      <td>1</td>\n",
       "      <td>0.0</td>\n",
       "      <td>1.191857</td>\n",
       "      <td>0.266151</td>\n",
       "      <td>0.166480</td>\n",
       "      <td>0.448154</td>\n",
       "      <td>0.060018</td>\n",
       "      <td>-0.082361</td>\n",
       "      <td>-0.078803</td>\n",
       "      <td>0.085102</td>\n",
       "      <td>-0.255425</td>\n",
       "      <td>...</td>\n",
       "      <td>-0.225775</td>\n",
       "      <td>-0.638672</td>\n",
       "      <td>0.101288</td>\n",
       "      <td>-0.339846</td>\n",
       "      <td>0.167170</td>\n",
       "      <td>0.125895</td>\n",
       "      <td>-0.008983</td>\n",
       "      <td>0.014724</td>\n",
       "      <td>2.69</td>\n",
       "      <td>0</td>\n",
       "    </tr>\n",
       "    <tr>\n",
       "      <td>2</td>\n",
       "      <td>1.0</td>\n",
       "      <td>-1.358354</td>\n",
       "      <td>-1.340163</td>\n",
       "      <td>1.773209</td>\n",
       "      <td>0.379780</td>\n",
       "      <td>-0.503198</td>\n",
       "      <td>1.800499</td>\n",
       "      <td>0.791461</td>\n",
       "      <td>0.247676</td>\n",
       "      <td>-1.514654</td>\n",
       "      <td>...</td>\n",
       "      <td>0.247998</td>\n",
       "      <td>0.771679</td>\n",
       "      <td>0.909412</td>\n",
       "      <td>-0.689281</td>\n",
       "      <td>-0.327642</td>\n",
       "      <td>-0.139097</td>\n",
       "      <td>-0.055353</td>\n",
       "      <td>-0.059752</td>\n",
       "      <td>378.66</td>\n",
       "      <td>0</td>\n",
       "    </tr>\n",
       "    <tr>\n",
       "      <td>3</td>\n",
       "      <td>1.0</td>\n",
       "      <td>-0.966272</td>\n",
       "      <td>-0.185226</td>\n",
       "      <td>1.792993</td>\n",
       "      <td>-0.863291</td>\n",
       "      <td>-0.010309</td>\n",
       "      <td>1.247203</td>\n",
       "      <td>0.237609</td>\n",
       "      <td>0.377436</td>\n",
       "      <td>-1.387024</td>\n",
       "      <td>...</td>\n",
       "      <td>-0.108300</td>\n",
       "      <td>0.005274</td>\n",
       "      <td>-0.190321</td>\n",
       "      <td>-1.175575</td>\n",
       "      <td>0.647376</td>\n",
       "      <td>-0.221929</td>\n",
       "      <td>0.062723</td>\n",
       "      <td>0.061458</td>\n",
       "      <td>123.50</td>\n",
       "      <td>0</td>\n",
       "    </tr>\n",
       "    <tr>\n",
       "      <td>4</td>\n",
       "      <td>2.0</td>\n",
       "      <td>-1.158233</td>\n",
       "      <td>0.877737</td>\n",
       "      <td>1.548718</td>\n",
       "      <td>0.403034</td>\n",
       "      <td>-0.407193</td>\n",
       "      <td>0.095921</td>\n",
       "      <td>0.592941</td>\n",
       "      <td>-0.270533</td>\n",
       "      <td>0.817739</td>\n",
       "      <td>...</td>\n",
       "      <td>-0.009431</td>\n",
       "      <td>0.798278</td>\n",
       "      <td>-0.137458</td>\n",
       "      <td>0.141267</td>\n",
       "      <td>-0.206010</td>\n",
       "      <td>0.502292</td>\n",
       "      <td>0.219422</td>\n",
       "      <td>0.215153</td>\n",
       "      <td>69.99</td>\n",
       "      <td>0</td>\n",
       "    </tr>\n",
       "  </tbody>\n",
       "</table>\n",
       "<p>5 rows × 31 columns</p>\n",
       "</div>"
      ],
      "text/plain": [
       "   Time        V1        V2        V3        V4        V5        V6        V7  \\\n",
       "0   0.0 -1.359807 -0.072781  2.536347  1.378155 -0.338321  0.462388  0.239599   \n",
       "1   0.0  1.191857  0.266151  0.166480  0.448154  0.060018 -0.082361 -0.078803   \n",
       "2   1.0 -1.358354 -1.340163  1.773209  0.379780 -0.503198  1.800499  0.791461   \n",
       "3   1.0 -0.966272 -0.185226  1.792993 -0.863291 -0.010309  1.247203  0.237609   \n",
       "4   2.0 -1.158233  0.877737  1.548718  0.403034 -0.407193  0.095921  0.592941   \n",
       "\n",
       "         V8        V9  ...       V21       V22       V23       V24       V25  \\\n",
       "0  0.098698  0.363787  ... -0.018307  0.277838 -0.110474  0.066928  0.128539   \n",
       "1  0.085102 -0.255425  ... -0.225775 -0.638672  0.101288 -0.339846  0.167170   \n",
       "2  0.247676 -1.514654  ...  0.247998  0.771679  0.909412 -0.689281 -0.327642   \n",
       "3  0.377436 -1.387024  ... -0.108300  0.005274 -0.190321 -1.175575  0.647376   \n",
       "4 -0.270533  0.817739  ... -0.009431  0.798278 -0.137458  0.141267 -0.206010   \n",
       "\n",
       "        V26       V27       V28  Amount  Class  \n",
       "0 -0.189115  0.133558 -0.021053  149.62      0  \n",
       "1  0.125895 -0.008983  0.014724    2.69      0  \n",
       "2 -0.139097 -0.055353 -0.059752  378.66      0  \n",
       "3 -0.221929  0.062723  0.061458  123.50      0  \n",
       "4  0.502292  0.219422  0.215153   69.99      0  \n",
       "\n",
       "[5 rows x 31 columns]"
      ]
     },
     "execution_count": 8,
     "metadata": {},
     "output_type": "execute_result"
    }
   ],
   "source": [
    "# Dataser : https://www.kaggle.com/mlg-ulb/creditcardfraud\n",
    "\n",
    "data = pd.read_csv('creditcard.csv')\n",
    "data.head()"
   ]
  },
  {
   "cell_type": "code",
   "execution_count": 9,
   "metadata": {},
   "outputs": [
    {
     "data": {
      "text/plain": [
       "(284807, 31)"
      ]
     },
     "execution_count": 9,
     "metadata": {},
     "output_type": "execute_result"
    }
   ],
   "source": [
    "data.shape"
   ]
  },
  {
   "cell_type": "code",
   "execution_count": 10,
   "metadata": {},
   "outputs": [
    {
     "data": {
      "text/plain": [
       "Time      0\n",
       "V1        0\n",
       "V2        0\n",
       "V3        0\n",
       "V4        0\n",
       "V5        0\n",
       "V6        0\n",
       "V7        0\n",
       "V8        0\n",
       "V9        0\n",
       "V10       0\n",
       "V11       0\n",
       "V12       0\n",
       "V13       0\n",
       "V14       0\n",
       "V15       0\n",
       "V16       0\n",
       "V17       0\n",
       "V18       0\n",
       "V19       0\n",
       "V20       0\n",
       "V21       0\n",
       "V22       0\n",
       "V23       0\n",
       "V24       0\n",
       "V25       0\n",
       "V26       0\n",
       "V27       0\n",
       "V28       0\n",
       "Amount    0\n",
       "Class     0\n",
       "dtype: int64"
      ]
     },
     "execution_count": 10,
     "metadata": {},
     "output_type": "execute_result"
    }
   ],
   "source": [
    "data.isnull().sum()"
   ]
  },
  {
   "cell_type": "code",
   "execution_count": 11,
   "metadata": {},
   "outputs": [
    {
     "name": "stdout",
     "output_type": "stream",
     "text": [
      "<class 'pandas.core.frame.DataFrame'>\n",
      "RangeIndex: 284807 entries, 0 to 284806\n",
      "Data columns (total 31 columns):\n",
      "Time      284807 non-null float64\n",
      "V1        284807 non-null float64\n",
      "V2        284807 non-null float64\n",
      "V3        284807 non-null float64\n",
      "V4        284807 non-null float64\n",
      "V5        284807 non-null float64\n",
      "V6        284807 non-null float64\n",
      "V7        284807 non-null float64\n",
      "V8        284807 non-null float64\n",
      "V9        284807 non-null float64\n",
      "V10       284807 non-null float64\n",
      "V11       284807 non-null float64\n",
      "V12       284807 non-null float64\n",
      "V13       284807 non-null float64\n",
      "V14       284807 non-null float64\n",
      "V15       284807 non-null float64\n",
      "V16       284807 non-null float64\n",
      "V17       284807 non-null float64\n",
      "V18       284807 non-null float64\n",
      "V19       284807 non-null float64\n",
      "V20       284807 non-null float64\n",
      "V21       284807 non-null float64\n",
      "V22       284807 non-null float64\n",
      "V23       284807 non-null float64\n",
      "V24       284807 non-null float64\n",
      "V25       284807 non-null float64\n",
      "V26       284807 non-null float64\n",
      "V27       284807 non-null float64\n",
      "V28       284807 non-null float64\n",
      "Amount    284807 non-null float64\n",
      "Class     284807 non-null int64\n",
      "dtypes: float64(30), int64(1)\n",
      "memory usage: 67.4 MB\n"
     ]
    }
   ],
   "source": [
    "data.info()"
   ]
  },
  {
   "cell_type": "code",
   "execution_count": 12,
   "metadata": {},
   "outputs": [
    {
     "data": {
      "text/plain": [
       "0    284315\n",
       "1       492\n",
       "Name: Class, dtype: int64"
      ]
     },
     "execution_count": 12,
     "metadata": {},
     "output_type": "execute_result"
    }
   ],
   "source": [
    "data['Class'].value_counts()"
   ]
  },
  {
   "cell_type": "markdown",
   "metadata": {},
   "source": [
    "### Balanced Dataset"
   ]
  },
  {
   "cell_type": "code",
   "execution_count": 13,
   "metadata": {},
   "outputs": [],
   "source": [
    "non_fraud = data[data['Class']==0]\n",
    "fraud = data[data['Class']==1]"
   ]
  },
  {
   "cell_type": "code",
   "execution_count": 14,
   "metadata": {},
   "outputs": [
    {
     "data": {
      "text/plain": [
       "((284315, 31), (492, 31))"
      ]
     },
     "execution_count": 14,
     "metadata": {},
     "output_type": "execute_result"
    }
   ],
   "source": [
    "non_fraud.shape, fraud.shape"
   ]
  },
  {
   "cell_type": "code",
   "execution_count": 16,
   "metadata": {},
   "outputs": [],
   "source": [
    "non_fraud = non_fraud.sample(fraud.shape[0])"
   ]
  },
  {
   "cell_type": "code",
   "execution_count": 17,
   "metadata": {},
   "outputs": [
    {
     "data": {
      "text/plain": [
       "(492, 31)"
      ]
     },
     "execution_count": 17,
     "metadata": {},
     "output_type": "execute_result"
    }
   ],
   "source": [
    "non_fraud.shape"
   ]
  },
  {
   "cell_type": "code",
   "execution_count": 18,
   "metadata": {},
   "outputs": [],
   "source": [
    "data = fraud.append(non_fraud, ignore_index=True)"
   ]
  },
  {
   "cell_type": "code",
   "execution_count": 19,
   "metadata": {},
   "outputs": [
    {
     "data": {
      "text/plain": [
       "1    492\n",
       "0    492\n",
       "Name: Class, dtype: int64"
      ]
     },
     "execution_count": 19,
     "metadata": {},
     "output_type": "execute_result"
    }
   ],
   "source": [
    "data['Class'].value_counts()"
   ]
  },
  {
   "cell_type": "code",
   "execution_count": 20,
   "metadata": {},
   "outputs": [],
   "source": [
    "X = data.drop('Class', axis=1)\n",
    "y = data['Class']"
   ]
  },
  {
   "cell_type": "code",
   "execution_count": 21,
   "metadata": {},
   "outputs": [],
   "source": [
    "X_train, X_test, y_train, y_test = train_test_split(X, y, test_size=0.2, random_state=0, stratify=y)"
   ]
  },
  {
   "cell_type": "code",
   "execution_count": 22,
   "metadata": {},
   "outputs": [
    {
     "data": {
      "text/plain": [
       "((787, 30), (197, 30), (787,), (197,))"
      ]
     },
     "execution_count": 22,
     "metadata": {},
     "output_type": "execute_result"
    }
   ],
   "source": [
    "X_train.shape, X_test.shape, y_train.shape, y_test.shape"
   ]
  },
  {
   "cell_type": "code",
   "execution_count": 23,
   "metadata": {},
   "outputs": [
    {
     "data": {
      "text/html": [
       "<div>\n",
       "<style scoped>\n",
       "    .dataframe tbody tr th:only-of-type {\n",
       "        vertical-align: middle;\n",
       "    }\n",
       "\n",
       "    .dataframe tbody tr th {\n",
       "        vertical-align: top;\n",
       "    }\n",
       "\n",
       "    .dataframe thead th {\n",
       "        text-align: right;\n",
       "    }\n",
       "</style>\n",
       "<table border=\"1\" class=\"dataframe\">\n",
       "  <thead>\n",
       "    <tr style=\"text-align: right;\">\n",
       "      <th></th>\n",
       "      <th>Time</th>\n",
       "      <th>V1</th>\n",
       "      <th>V2</th>\n",
       "      <th>V3</th>\n",
       "      <th>V4</th>\n",
       "      <th>V5</th>\n",
       "      <th>V6</th>\n",
       "      <th>V7</th>\n",
       "      <th>V8</th>\n",
       "      <th>V9</th>\n",
       "      <th>...</th>\n",
       "      <th>V20</th>\n",
       "      <th>V21</th>\n",
       "      <th>V22</th>\n",
       "      <th>V23</th>\n",
       "      <th>V24</th>\n",
       "      <th>V25</th>\n",
       "      <th>V26</th>\n",
       "      <th>V27</th>\n",
       "      <th>V28</th>\n",
       "      <th>Amount</th>\n",
       "    </tr>\n",
       "  </thead>\n",
       "  <tbody>\n",
       "    <tr>\n",
       "      <td>845</td>\n",
       "      <td>39854.0</td>\n",
       "      <td>0.724748</td>\n",
       "      <td>-0.612523</td>\n",
       "      <td>-0.012670</td>\n",
       "      <td>1.268018</td>\n",
       "      <td>-0.485371</td>\n",
       "      <td>-0.304807</td>\n",
       "      <td>0.262916</td>\n",
       "      <td>-0.018452</td>\n",
       "      <td>-0.072097</td>\n",
       "      <td>...</td>\n",
       "      <td>0.306918</td>\n",
       "      <td>0.237745</td>\n",
       "      <td>0.058770</td>\n",
       "      <td>-0.368254</td>\n",
       "      <td>-0.005027</td>\n",
       "      <td>0.548135</td>\n",
       "      <td>-0.300511</td>\n",
       "      <td>-0.042794</td>\n",
       "      <td>0.049682</td>\n",
       "      <td>257.11</td>\n",
       "    </tr>\n",
       "    <tr>\n",
       "      <td>898</td>\n",
       "      <td>147546.0</td>\n",
       "      <td>2.242033</td>\n",
       "      <td>-1.331530</td>\n",
       "      <td>-0.291681</td>\n",
       "      <td>-1.497571</td>\n",
       "      <td>-1.548367</td>\n",
       "      <td>-0.596015</td>\n",
       "      <td>-1.320194</td>\n",
       "      <td>-0.154301</td>\n",
       "      <td>-1.187786</td>\n",
       "      <td>...</td>\n",
       "      <td>-0.332618</td>\n",
       "      <td>-0.370261</td>\n",
       "      <td>-0.575814</td>\n",
       "      <td>0.530210</td>\n",
       "      <td>1.107507</td>\n",
       "      <td>-0.600590</td>\n",
       "      <td>-0.546881</td>\n",
       "      <td>0.040874</td>\n",
       "      <td>-0.020771</td>\n",
       "      <td>17.49</td>\n",
       "    </tr>\n",
       "    <tr>\n",
       "      <td>45</td>\n",
       "      <td>18399.0</td>\n",
       "      <td>-14.474437</td>\n",
       "      <td>6.503185</td>\n",
       "      <td>-17.712632</td>\n",
       "      <td>11.270352</td>\n",
       "      <td>-4.150142</td>\n",
       "      <td>-3.372098</td>\n",
       "      <td>-16.535807</td>\n",
       "      <td>-1.443947</td>\n",
       "      <td>-6.815273</td>\n",
       "      <td>...</td>\n",
       "      <td>1.101250</td>\n",
       "      <td>-2.475962</td>\n",
       "      <td>0.342391</td>\n",
       "      <td>-3.564508</td>\n",
       "      <td>-0.818140</td>\n",
       "      <td>0.153408</td>\n",
       "      <td>0.755079</td>\n",
       "      <td>2.706566</td>\n",
       "      <td>-0.992916</td>\n",
       "      <td>1.00</td>\n",
       "    </tr>\n",
       "    <tr>\n",
       "      <td>536</td>\n",
       "      <td>141196.0</td>\n",
       "      <td>0.004637</td>\n",
       "      <td>0.940936</td>\n",
       "      <td>0.481097</td>\n",
       "      <td>-0.492786</td>\n",
       "      <td>0.271243</td>\n",
       "      <td>-1.322644</td>\n",
       "      <td>1.132053</td>\n",
       "      <td>-0.301872</td>\n",
       "      <td>-0.247630</td>\n",
       "      <td>...</td>\n",
       "      <td>0.037605</td>\n",
       "      <td>-0.215118</td>\n",
       "      <td>-0.401794</td>\n",
       "      <td>0.127997</td>\n",
       "      <td>0.482628</td>\n",
       "      <td>-0.504069</td>\n",
       "      <td>0.108083</td>\n",
       "      <td>0.252210</td>\n",
       "      <td>0.104644</td>\n",
       "      <td>11.99</td>\n",
       "    </tr>\n",
       "    <tr>\n",
       "      <td>739</td>\n",
       "      <td>80765.0</td>\n",
       "      <td>-0.380367</td>\n",
       "      <td>1.133843</td>\n",
       "      <td>1.278711</td>\n",
       "      <td>0.005191</td>\n",
       "      <td>0.264043</td>\n",
       "      <td>-0.494702</td>\n",
       "      <td>0.682083</td>\n",
       "      <td>0.029163</td>\n",
       "      <td>-0.494055</td>\n",
       "      <td>...</td>\n",
       "      <td>0.121240</td>\n",
       "      <td>-0.229223</td>\n",
       "      <td>-0.523260</td>\n",
       "      <td>0.006874</td>\n",
       "      <td>0.039898</td>\n",
       "      <td>-0.212448</td>\n",
       "      <td>0.099462</td>\n",
       "      <td>0.266307</td>\n",
       "      <td>0.096131</td>\n",
       "      <td>3.57</td>\n",
       "    </tr>\n",
       "  </tbody>\n",
       "</table>\n",
       "<p>5 rows × 30 columns</p>\n",
       "</div>"
      ],
      "text/plain": [
       "         Time         V1        V2         V3         V4        V5        V6  \\\n",
       "845   39854.0   0.724748 -0.612523  -0.012670   1.268018 -0.485371 -0.304807   \n",
       "898  147546.0   2.242033 -1.331530  -0.291681  -1.497571 -1.548367 -0.596015   \n",
       "45    18399.0 -14.474437  6.503185 -17.712632  11.270352 -4.150142 -3.372098   \n",
       "536  141196.0   0.004637  0.940936   0.481097  -0.492786  0.271243 -1.322644   \n",
       "739   80765.0  -0.380367  1.133843   1.278711   0.005191  0.264043 -0.494702   \n",
       "\n",
       "            V7        V8        V9  ...       V20       V21       V22  \\\n",
       "845   0.262916 -0.018452 -0.072097  ...  0.306918  0.237745  0.058770   \n",
       "898  -1.320194 -0.154301 -1.187786  ... -0.332618 -0.370261 -0.575814   \n",
       "45  -16.535807 -1.443947 -6.815273  ...  1.101250 -2.475962  0.342391   \n",
       "536   1.132053 -0.301872 -0.247630  ...  0.037605 -0.215118 -0.401794   \n",
       "739   0.682083  0.029163 -0.494055  ...  0.121240 -0.229223 -0.523260   \n",
       "\n",
       "          V23       V24       V25       V26       V27       V28  Amount  \n",
       "845 -0.368254 -0.005027  0.548135 -0.300511 -0.042794  0.049682  257.11  \n",
       "898  0.530210  1.107507 -0.600590 -0.546881  0.040874 -0.020771   17.49  \n",
       "45  -3.564508 -0.818140  0.153408  0.755079  2.706566 -0.992916    1.00  \n",
       "536  0.127997  0.482628 -0.504069  0.108083  0.252210  0.104644   11.99  \n",
       "739  0.006874  0.039898 -0.212448  0.099462  0.266307  0.096131    3.57  \n",
       "\n",
       "[5 rows x 30 columns]"
      ]
     },
     "execution_count": 23,
     "metadata": {},
     "output_type": "execute_result"
    }
   ],
   "source": [
    "X_train.head()"
   ]
  },
  {
   "cell_type": "code",
   "execution_count": 24,
   "metadata": {},
   "outputs": [],
   "source": [
    "scalar = StandardScaler()\n",
    "X_train = scalar.fit_transform(X_train)\n",
    "X_test = scalar.transform(X_test)"
   ]
  },
  {
   "cell_type": "code",
   "execution_count": 25,
   "metadata": {},
   "outputs": [
    {
     "data": {
      "text/plain": [
       "(197, 30)"
      ]
     },
     "execution_count": 25,
     "metadata": {},
     "output_type": "execute_result"
    }
   ],
   "source": [
    "X_test.shape"
   ]
  },
  {
   "cell_type": "code",
   "execution_count": 27,
   "metadata": {},
   "outputs": [
    {
     "data": {
      "text/plain": [
       "array([[-1.00761049e+00,  5.57036781e-01, -5.94450273e-01, ...,\n",
       "        -1.02742331e-01,  1.90366164e-04,  7.07482444e-01],\n",
       "       [ 1.19425127e+00,  8.17470778e-01, -7.74833893e-01, ...,\n",
       "        -2.73855017e-02, -9.96740504e-02, -4.16482002e-01],\n",
       "       [-1.44627765e+00, -2.05182298e+00,  1.19072947e+00, ...,\n",
       "         2.37352907e+00, -1.47765800e+00, -4.93830193e-01],\n",
       "       ...,\n",
       "       [-1.57516871e+00, -3.78849207e-01,  3.23011319e-01, ...,\n",
       "        -1.26369367e+00,  9.30071038e-01, -3.55973107e-01],\n",
       "       [ 1.63015823e+00,  7.77198400e-01, -3.34474589e-01, ...,\n",
       "        -7.23970490e-02, -1.22257918e-01, -4.36276384e-01],\n",
       "       [-1.64844688e+00,  6.39426431e-01, -6.41303746e-01, ...,\n",
       "        -4.99884232e-02, -1.90431584e-02, -1.28431519e-01]])"
      ]
     },
     "execution_count": 27,
     "metadata": {},
     "output_type": "execute_result"
    }
   ],
   "source": [
    "X_train"
   ]
  },
  {
   "cell_type": "code",
   "execution_count": 28,
   "metadata": {},
   "outputs": [],
   "source": [
    "y_train = y_train.to_numpy()\n",
    "y_test = y_test.to_numpy()"
   ]
  },
  {
   "cell_type": "code",
   "execution_count": 29,
   "metadata": {},
   "outputs": [
    {
     "data": {
      "text/plain": [
       "numpy.ndarray"
      ]
     },
     "execution_count": 29,
     "metadata": {},
     "output_type": "execute_result"
    }
   ],
   "source": [
    "type(y_train)"
   ]
  },
  {
   "cell_type": "code",
   "execution_count": 30,
   "metadata": {},
   "outputs": [
    {
     "data": {
      "text/plain": [
       "((787, 30), (197, 30))"
      ]
     },
     "execution_count": 30,
     "metadata": {},
     "output_type": "execute_result"
    }
   ],
   "source": [
    "X_train.shape, X_test.shape"
   ]
  },
  {
   "cell_type": "code",
   "execution_count": 31,
   "metadata": {},
   "outputs": [],
   "source": [
    "X_train = X_train.reshape(787, 30, 1)\n",
    "X_test = X_test.reshape(X_test.shape[0], X_test.shape[1], 1)"
   ]
  },
  {
   "cell_type": "code",
   "execution_count": 33,
   "metadata": {},
   "outputs": [
    {
     "data": {
      "text/plain": [
       "((787, 30, 1), (197, 30, 1))"
      ]
     },
     "execution_count": 33,
     "metadata": {},
     "output_type": "execute_result"
    }
   ],
   "source": [
    "X_train.shape, X_test.shape"
   ]
  },
  {
   "cell_type": "markdown",
   "metadata": {},
   "source": [
    "### Build CNN Model"
   ]
  },
  {
   "cell_type": "code",
   "execution_count": 34,
   "metadata": {},
   "outputs": [
    {
     "data": {
      "text/plain": [
       "(30, 1)"
      ]
     },
     "execution_count": 34,
     "metadata": {},
     "output_type": "execute_result"
    }
   ],
   "source": [
    "X_train[0].shape"
   ]
  },
  {
   "cell_type": "code",
   "execution_count": 35,
   "metadata": {},
   "outputs": [],
   "source": [
    "epochs = 20\n",
    "\n",
    "model = Sequential()\n",
    "model.add(Conv1D(filters = 32, kernel_size=2, activation='relu', input_shape=(X_train[0].shape)))\n",
    "model.add(BatchNormalization())\n",
    "model.add(Dropout(0.2))\n",
    "\n",
    "model.add(Conv1D(filters = 32, kernel_size=2, activation='relu'))\n",
    "model.add(BatchNormalization())\n",
    "model.add(Dropout(0.4))\n",
    "\n",
    "model.add(Flatten())\n",
    "model.add(Dense(units=64, activation='relu'))\n",
    "model.add(Dropout(0.5))\n",
    "\n",
    "model.add(Dense(units=1, activation='sigmoid'))"
   ]
  },
  {
   "cell_type": "code",
   "execution_count": 36,
   "metadata": {},
   "outputs": [
    {
     "name": "stdout",
     "output_type": "stream",
     "text": [
      "Model: \"sequential\"\n",
      "_________________________________________________________________\n",
      "Layer (type)                 Output Shape              Param #   \n",
      "=================================================================\n",
      "conv1d (Conv1D)              (None, 29, 32)            96        \n",
      "_________________________________________________________________\n",
      "batch_normalization (BatchNo (None, 29, 32)            128       \n",
      "_________________________________________________________________\n",
      "dropout (Dropout)            (None, 29, 32)            0         \n",
      "_________________________________________________________________\n",
      "conv1d_1 (Conv1D)            (None, 28, 32)            2080      \n",
      "_________________________________________________________________\n",
      "batch_normalization_1 (Batch (None, 28, 32)            128       \n",
      "_________________________________________________________________\n",
      "dropout_1 (Dropout)          (None, 28, 32)            0         \n",
      "_________________________________________________________________\n",
      "flatten (Flatten)            (None, 896)               0         \n",
      "_________________________________________________________________\n",
      "dense (Dense)                (None, 64)                57408     \n",
      "_________________________________________________________________\n",
      "dropout_2 (Dropout)          (None, 64)                0         \n",
      "_________________________________________________________________\n",
      "dense_1 (Dense)              (None, 1)                 65        \n",
      "=================================================================\n",
      "Total params: 59,905\n",
      "Trainable params: 59,777\n",
      "Non-trainable params: 128\n",
      "_________________________________________________________________\n"
     ]
    }
   ],
   "source": [
    "model.summary()"
   ]
  },
  {
   "cell_type": "code",
   "execution_count": 39,
   "metadata": {},
   "outputs": [],
   "source": [
    "model.compile(optimizer=Adam(lr=0.0001), loss='binary_crossentropy', metrics=['accuracy'])"
   ]
  },
  {
   "cell_type": "code",
   "execution_count": 40,
   "metadata": {},
   "outputs": [
    {
     "name": "stdout",
     "output_type": "stream",
     "text": [
      "Train on 787 samples, validate on 197 samples\n",
      "Epoch 1/20\n",
      "WARNING:tensorflow:From C:\\Users\\dipkumar\\anaconda3\\lib\\site-packages\\tensorflow_core\\python\\ops\\nn_impl.py:183: where (from tensorflow.python.ops.array_ops) is deprecated and will be removed in a future version.\n",
      "Instructions for updating:\n",
      "Use tf.where in 2.0, which has the same broadcast rule as np.where\n",
      "WARNING:tensorflow:Entity <function Function._initialize_uninitialized_variables.<locals>.initialize_variables at 0x000001B695D641F8> could not be transformed and will be executed as-is. Please report this to the AutoGraph team. When filing the bug, set the verbosity to 10 (on Linux, `export AUTOGRAPH_VERBOSITY=10`) and attach the full output. Cause: module 'gast' has no attribute 'Num'\n",
      "WARNING: Entity <function Function._initialize_uninitialized_variables.<locals>.initialize_variables at 0x000001B695D641F8> could not be transformed and will be executed as-is. Please report this to the AutoGraph team. When filing the bug, set the verbosity to 10 (on Linux, `export AUTOGRAPH_VERBOSITY=10`) and attach the full output. Cause: module 'gast' has no attribute 'Num'\n",
      "787/787 [==============================] - 4s 5ms/sample - loss: 0.9769 - accuracy: 0.5222 - val_loss: 0.6504 - val_accuracy: 0.7462\n",
      "Epoch 2/20\n",
      "787/787 [==============================] - 0s 166us/sample - loss: 0.6098 - accuracy: 0.6963 - val_loss: 0.6136 - val_accuracy: 0.6954\n",
      "Epoch 3/20\n",
      "787/787 [==============================] - 0s 174us/sample - loss: 0.4683 - accuracy: 0.7776 - val_loss: 0.5889 - val_accuracy: 0.6701\n",
      "Epoch 4/20\n",
      "787/787 [==============================] - 0s 164us/sample - loss: 0.4395 - accuracy: 0.8196 - val_loss: 0.5648 - val_accuracy: 0.6751\n",
      "Epoch 5/20\n",
      "787/787 [==============================] - 0s 156us/sample - loss: 0.3701 - accuracy: 0.8539 - val_loss: 0.5367 - val_accuracy: 0.7005\n",
      "Epoch 6/20\n",
      "787/787 [==============================] - 0s 165us/sample - loss: 0.3519 - accuracy: 0.8729 - val_loss: 0.5075 - val_accuracy: 0.7360\n",
      "Epoch 7/20\n",
      "787/787 [==============================] - 0s 188us/sample - loss: 0.3306 - accuracy: 0.8767 - val_loss: 0.4735 - val_accuracy: 0.7919\n",
      "Epoch 8/20\n",
      "787/787 [==============================] - 0s 184us/sample - loss: 0.3126 - accuracy: 0.8920 - val_loss: 0.4401 - val_accuracy: 0.8223\n",
      "Epoch 9/20\n",
      "787/787 [==============================] - 0s 182us/sample - loss: 0.3054 - accuracy: 0.8958 - val_loss: 0.4045 - val_accuracy: 0.8579\n",
      "Epoch 10/20\n",
      "787/787 [==============================] - 0s 187us/sample - loss: 0.2690 - accuracy: 0.8983 - val_loss: 0.3721 - val_accuracy: 0.8731\n",
      "Epoch 11/20\n",
      "787/787 [==============================] - 0s 183us/sample - loss: 0.2885 - accuracy: 0.8958 - val_loss: 0.3412 - val_accuracy: 0.8782\n",
      "Epoch 12/20\n",
      "787/787 [==============================] - 0s 191us/sample - loss: 0.2713 - accuracy: 0.9022 - val_loss: 0.3161 - val_accuracy: 0.8883\n",
      "Epoch 13/20\n",
      "787/787 [==============================] - 0s 154us/sample - loss: 0.2494 - accuracy: 0.9199 - val_loss: 0.2948 - val_accuracy: 0.8985\n",
      "Epoch 14/20\n",
      "787/787 [==============================] - 0s 154us/sample - loss: 0.2463 - accuracy: 0.9149 - val_loss: 0.2749 - val_accuracy: 0.9036\n",
      "Epoch 15/20\n",
      "787/787 [==============================] - 0s 154us/sample - loss: 0.2303 - accuracy: 0.9263 - val_loss: 0.2598 - val_accuracy: 0.9137\n",
      "Epoch 16/20\n",
      "787/787 [==============================] - 0s 159us/sample - loss: 0.2240 - accuracy: 0.9238 - val_loss: 0.2477 - val_accuracy: 0.9188\n",
      "Epoch 17/20\n",
      "787/787 [==============================] - 0s 161us/sample - loss: 0.2205 - accuracy: 0.9238 - val_loss: 0.2398 - val_accuracy: 0.9188\n",
      "Epoch 18/20\n",
      "787/787 [==============================] - 0s 174us/sample - loss: 0.2314 - accuracy: 0.9250 - val_loss: 0.2342 - val_accuracy: 0.9188\n",
      "Epoch 19/20\n",
      "787/787 [==============================] - 0s 168us/sample - loss: 0.2175 - accuracy: 0.9377 - val_loss: 0.2285 - val_accuracy: 0.9188\n",
      "Epoch 20/20\n",
      "787/787 [==============================] - 0s 155us/sample - loss: 0.2404 - accuracy: 0.9212 - val_loss: 0.2244 - val_accuracy: 0.9137\n"
     ]
    }
   ],
   "source": [
    "history = model.fit(X_train, y_train, epochs=epochs, verbose=1, validation_data=(X_test, y_test))"
   ]
  },
  {
   "cell_type": "code",
   "execution_count": 41,
   "metadata": {},
   "outputs": [],
   "source": [
    "def plot_learningCurve(history, epoch):\n",
    "  # Plot training & validation accuracy values\n",
    "  epoch_range = range(1, epoch+1)\n",
    "  plt.plot(epoch_range, history.history['accuracy'])\n",
    "  plt.plot(epoch_range, history.history['val_accuracy'])\n",
    "  plt.title('Model accuracy')\n",
    "  plt.ylabel('Accuracy')\n",
    "  plt.xlabel('Epoch')\n",
    "  plt.legend(['Train', 'Val'], loc='upper left')\n",
    "  plt.show()\n",
    "\n",
    "  # Plot training & validation loss values\n",
    "  plt.plot(epoch_range, history.history['loss'])\n",
    "  plt.plot(epoch_range, history.history['val_loss'])\n",
    "  plt.title('Model loss')\n",
    "  plt.ylabel('Loss')\n",
    "  plt.xlabel('Epoch')\n",
    "  plt.legend(['Train', 'Val'], loc='upper left')\n",
    "  plt.show()"
   ]
  },
  {
   "cell_type": "code",
   "execution_count": 42,
   "metadata": {},
   "outputs": [
    {
     "data": {
      "image/png": "[encoded data removed]",
      "text/plain": [
       "<Figure size 432x288 with 1 Axes>"
      ]
     },
     "metadata": {
      "needs_background": "light"
     },
     "output_type": "display_data"
    },
    {
     "data": {
      "image/png": "[encoded data removed]",
      "text/plain": [
       "<Figure size 432x288 with 1 Axes>"
      ]
     },
     "metadata": {
      "needs_background": "light"
     },
     "output_type": "display_data"
    }
   ],
   "source": [
    "plot_learningCurve(history, epochs)"
   ]
  },
  {
   "cell_type": "markdown",
   "metadata": {},
   "source": [
    "### Add Maxpool Layer"
   ]
  },
  {
   "cell_type": "code",
   "execution_count": 44,
   "metadata": {},
   "outputs": [
    {
     "name": "stdout",
     "output_type": "stream",
     "text": [
      "Train on 787 samples, validate on 197 samples\n",
      "Epoch 1/50\n",
      "WARNING:tensorflow:Entity <function Function._initialize_uninitialized_variables.<locals>.initialize_variables at 0x000001B69C5B1168> could not be transformed and will be executed as-is. Please report this to the AutoGraph team. When filing the bug, set the verbosity to 10 (on Linux, `export AUTOGRAPH_VERBOSITY=10`) and attach the full output. Cause: module 'gast' has no attribute 'Num'\n",
      "WARNING: Entity <function Function._initialize_uninitialized_variables.<locals>.initialize_variables at 0x000001B69C5B1168> could not be transformed and will be executed as-is. Please report this to the AutoGraph team. When filing the bug, set the verbosity to 10 (on Linux, `export AUTOGRAPH_VERBOSITY=10`) and attach the full output. Cause: module 'gast' has no attribute 'Num'\n",
      "787/787 [==============================] - 2s 2ms/sample - loss: 1.0141 - accuracy: 0.5133 - val_loss: 0.6655 - val_accuracy: 0.6599\n",
      "Epoch 2/50\n",
      "787/787 [==============================] - 0s 155us/sample - loss: 0.8321 - accuracy: 0.5832 - val_loss: 0.6504 - val_accuracy: 0.7005\n",
      "Epoch 3/50\n",
      "787/787 [==============================] - 0s 159us/sample - loss: 0.7864 - accuracy: 0.6163 - val_loss: 0.6331 - val_accuracy: 0.7056\n",
      "Epoch 4/50\n",
      "787/787 [==============================] - 0s 149us/sample - loss: 0.6599 - accuracy: 0.6722 - val_loss: 0.6137 - val_accuracy: 0.7056\n",
      "Epoch 5/50\n",
      "787/787 [==============================] - 0s 165us/sample - loss: 0.5943 - accuracy: 0.7281 - val_loss: 0.5928 - val_accuracy: 0.7056\n",
      "Epoch 6/50\n",
      "787/787 [==============================] - 0s 173us/sample - loss: 0.6034 - accuracy: 0.7281 - val_loss: 0.5712 - val_accuracy: 0.7056\n",
      "Epoch 7/50\n",
      "787/787 [==============================] - 0s 166us/sample - loss: 0.6002 - accuracy: 0.7421 - val_loss: 0.5465 - val_accuracy: 0.7462\n",
      "Epoch 8/50\n",
      "787/787 [==============================] - 0s 155us/sample - loss: 0.5252 - accuracy: 0.7624 - val_loss: 0.5196 - val_accuracy: 0.7614\n",
      "Epoch 9/50\n",
      "787/787 [==============================] - 0s 154us/sample - loss: 0.4851 - accuracy: 0.7700 - val_loss: 0.4926 - val_accuracy: 0.7868\n",
      "Epoch 10/50\n",
      "787/787 [==============================] - 0s 156us/sample - loss: 0.4787 - accuracy: 0.8005 - val_loss: 0.4650 - val_accuracy: 0.7970\n",
      "Epoch 11/50\n",
      "787/787 [==============================] - 0s 156us/sample - loss: 0.4595 - accuracy: 0.8107 - val_loss: 0.4373 - val_accuracy: 0.8071\n",
      "Epoch 12/50\n",
      "787/787 [==============================] - 0s 170us/sample - loss: 0.4492 - accuracy: 0.8107 - val_loss: 0.4110 - val_accuracy: 0.8223\n",
      "Epoch 13/50\n",
      "787/787 [==============================] - 0s 177us/sample - loss: 0.4312 - accuracy: 0.8069 - val_loss: 0.3865 - val_accuracy: 0.8325\n",
      "Epoch 14/50\n",
      "787/787 [==============================] - 0s 159us/sample - loss: 0.4193 - accuracy: 0.8335 - val_loss: 0.3631 - val_accuracy: 0.8680\n",
      "Epoch 15/50\n",
      "787/787 [==============================] - 0s 137us/sample - loss: 0.3934 - accuracy: 0.8412 - val_loss: 0.3434 - val_accuracy: 0.8832\n",
      "Epoch 16/50\n",
      "787/787 [==============================] - 0s 156us/sample - loss: 0.3696 - accuracy: 0.8463 - val_loss: 0.3251 - val_accuracy: 0.8832\n",
      "Epoch 17/50\n",
      "787/787 [==============================] - 0s 160us/sample - loss: 0.4108 - accuracy: 0.8412 - val_loss: 0.3108 - val_accuracy: 0.8883\n",
      "Epoch 18/50\n",
      "787/787 [==============================] - 0s 183us/sample - loss: 0.3772 - accuracy: 0.8539 - val_loss: 0.2978 - val_accuracy: 0.8934\n",
      "Epoch 19/50\n",
      "787/787 [==============================] - 0s 169us/sample - loss: 0.3752 - accuracy: 0.8717 - val_loss: 0.2873 - val_accuracy: 0.8985\n",
      "Epoch 20/50\n",
      "787/787 [==============================] - 0s 174us/sample - loss: 0.3507 - accuracy: 0.8602 - val_loss: 0.2783 - val_accuracy: 0.9036\n",
      "Epoch 21/50\n",
      "787/787 [==============================] - 0s 169us/sample - loss: 0.3795 - accuracy: 0.8551 - val_loss: 0.2715 - val_accuracy: 0.9036\n",
      "Epoch 22/50\n",
      "787/787 [==============================] - 0s 150us/sample - loss: 0.3704 - accuracy: 0.8577 - val_loss: 0.2677 - val_accuracy: 0.9036\n",
      "Epoch 23/50\n",
      "787/787 [==============================] - 0s 149us/sample - loss: 0.3430 - accuracy: 0.8488 - val_loss: 0.2634 - val_accuracy: 0.9036\n",
      "Epoch 24/50\n",
      "787/787 [==============================] - 0s 142us/sample - loss: 0.3406 - accuracy: 0.8742 - val_loss: 0.2594 - val_accuracy: 0.9086\n",
      "Epoch 25/50\n",
      "787/787 [==============================] - 0s 168us/sample - loss: 0.3227 - accuracy: 0.8742 - val_loss: 0.2571 - val_accuracy: 0.9086\n",
      "Epoch 26/50\n",
      "787/787 [==============================] - 0s 151us/sample - loss: 0.3429 - accuracy: 0.8793 - val_loss: 0.2554 - val_accuracy: 0.9086\n",
      "Epoch 27/50\n",
      "787/787 [==============================] - 0s 154us/sample - loss: 0.3399 - accuracy: 0.8679 - val_loss: 0.2538 - val_accuracy: 0.9086\n",
      "Epoch 28/50\n",
      "787/787 [==============================] - 0s 154us/sample - loss: 0.3329 - accuracy: 0.8869 - val_loss: 0.2513 - val_accuracy: 0.9086\n",
      "Epoch 29/50\n",
      "787/787 [==============================] - 0s 158us/sample - loss: 0.3454 - accuracy: 0.8717 - val_loss: 0.2511 - val_accuracy: 0.9086\n",
      "Epoch 30/50\n",
      "787/787 [==============================] - 0s 149us/sample - loss: 0.3254 - accuracy: 0.8793 - val_loss: 0.2489 - val_accuracy: 0.9086\n",
      "Epoch 31/50\n",
      "787/787 [==============================] - 0s 165us/sample - loss: 0.3036 - accuracy: 0.8844 - val_loss: 0.2463 - val_accuracy: 0.9137\n",
      "Epoch 32/50\n",
      "787/787 [==============================] - 0s 156us/sample - loss: 0.3129 - accuracy: 0.8869 - val_loss: 0.2471 - val_accuracy: 0.9137\n",
      "Epoch 33/50\n",
      "787/787 [==============================] - 0s 149us/sample - loss: 0.2988 - accuracy: 0.8958 - val_loss: 0.2460 - val_accuracy: 0.9137\n",
      "Epoch 34/50\n",
      "787/787 [==============================] - 0s 149us/sample - loss: 0.2902 - accuracy: 0.8958 - val_loss: 0.2439 - val_accuracy: 0.9137\n",
      "Epoch 35/50\n",
      "787/787 [==============================] - 0s 145us/sample - loss: 0.3072 - accuracy: 0.8882 - val_loss: 0.2438 - val_accuracy: 0.9137\n",
      "Epoch 36/50\n",
      "787/787 [==============================] - 0s 179us/sample - loss: 0.2858 - accuracy: 0.8983 - val_loss: 0.2441 - val_accuracy: 0.9137\n",
      "Epoch 37/50\n",
      "787/787 [==============================] - 0s 173us/sample - loss: 0.2703 - accuracy: 0.8971 - val_loss: 0.2440 - val_accuracy: 0.9137\n",
      "Epoch 38/50\n",
      "787/787 [==============================] - 0s 174us/sample - loss: 0.2791 - accuracy: 0.8996 - val_loss: 0.2437 - val_accuracy: 0.9137\n",
      "Epoch 39/50\n",
      "787/787 [==============================] - 0s 154us/sample - loss: 0.2880 - accuracy: 0.9123 - val_loss: 0.2415 - val_accuracy: 0.9137\n",
      "Epoch 40/50\n",
      "787/787 [==============================] - 0s 168us/sample - loss: 0.2918 - accuracy: 0.8920 - val_loss: 0.2412 - val_accuracy: 0.9137\n",
      "Epoch 41/50\n",
      "787/787 [==============================] - 0s 158us/sample - loss: 0.2543 - accuracy: 0.9136 - val_loss: 0.2411 - val_accuracy: 0.9137\n",
      "Epoch 42/50\n",
      "787/787 [==============================] - 0s 169us/sample - loss: 0.2838 - accuracy: 0.8958 - val_loss: 0.2410 - val_accuracy: 0.9137\n",
      "Epoch 43/50\n",
      "787/787 [==============================] - 0s 159us/sample - loss: 0.2987 - accuracy: 0.9022 - val_loss: 0.2399 - val_accuracy: 0.9137\n",
      "Epoch 44/50\n",
      "787/787 [==============================] - 0s 189us/sample - loss: 0.2669 - accuracy: 0.8971 - val_loss: 0.2392 - val_accuracy: 0.9188\n",
      "Epoch 45/50\n",
      "787/787 [==============================] - 0s 186us/sample - loss: 0.2339 - accuracy: 0.9174 - val_loss: 0.2395 - val_accuracy: 0.9188\n",
      "Epoch 46/50\n",
      "787/787 [==============================] - 0s 154us/sample - loss: 0.2737 - accuracy: 0.8907 - val_loss: 0.2402 - val_accuracy: 0.9188\n",
      "Epoch 47/50\n",
      "787/787 [==============================] - 0s 179us/sample - loss: 0.2561 - accuracy: 0.9085 - val_loss: 0.2414 - val_accuracy: 0.9188\n",
      "Epoch 48/50\n",
      "787/787 [==============================] - 0s 168us/sample - loss: 0.2443 - accuracy: 0.9136 - val_loss: 0.2426 - val_accuracy: 0.9188\n",
      "Epoch 49/50\n",
      "787/787 [==============================] - 0s 145us/sample - loss: 0.2684 - accuracy: 0.9085 - val_loss: 0.2407 - val_accuracy: 0.9188\n",
      "Epoch 50/50\n",
      "787/787 [==============================] - 0s 150us/sample - loss: 0.2383 - accuracy: 0.9149 - val_loss: 0.2419 - val_accuracy: 0.9188\n"
     ]
    },
    {
     "data": {
      "image/png": "[encoded data removed]",
      "text/plain": [
       "<Figure size 432x288 with 1 Axes>"
      ]
     },
     "metadata": {
      "needs_background": "light"
     },
     "output_type": "display_data"
    },
    {
     "data": {
      "image/png": "[encoded data removed]",
      "text/plain": [
       "<Figure size 432x288 with 1 Axes>"
      ]
     },
     "metadata": {
      "needs_background": "light"
     },
     "output_type": "display_data"
    }
   ],
   "source": [
    "epochs = 50\n",
    "\n",
    "model = Sequential()\n",
    "model.add(Conv1D(filters = 32, kernel_size=2, activation='relu', input_shape=(X_train[0].shape)))\n",
    "model.add(BatchNormalization())\n",
    "model.add(MaxPool1D(2))\n",
    "model.add(Dropout(0.2))\n",
    "\n",
    "model.add(Conv1D(filters = 32, kernel_size=2, activation='relu'))\n",
    "model.add(BatchNormalization())\n",
    "model.add(MaxPool1D(2))\n",
    "model.add(Dropout(0.4))\n",
    "\n",
    "model.add(Flatten())\n",
    "model.add(Dense(units=64, activation='relu'))\n",
    "model.add(Dropout(0.5))\n",
    "\n",
    "model.add(Dense(units=1, activation='sigmoid'))\n",
    "\n",
    "\n",
    "model.compile(optimizer=Adam(lr=0.0001), loss='binary_crossentropy', metrics=['accuracy'])\n",
    "history = model.fit(X_train, y_train, epochs=epochs, verbose=1, validation_data=(X_test, y_test))\n",
    "plot_learningCurve(history, epochs)"
   ]
  },
  {
   "cell_type": "code",
   "execution_count": null,
   "metadata": {},
   "outputs": [],
   "source": []
  },
  {
   "cell_type": "code",
   "execution_count": null,
   "metadata": {},
   "outputs": [],
   "source": []
  },
  {
   "cell_type": "code",
   "execution_count": null,
   "metadata": {},
   "outputs": [],
   "source": []
  },
  {
   "cell_type": "code",
   "execution_count": null,
   "metadata": {},
   "outputs": [],
   "source": []
  },
  {
   "cell_type": "code",
   "execution_count": null,
   "metadata": {},
   "outputs": [],
   "source": []
  },
  {
   "cell_type": "code",
   "execution_count": null,
   "metadata": {},
   "outputs": [],
   "source": []
  },
  {
   "cell_type": "code",
   "execution_count": null,
   "metadata": {},
   "outputs": [],
   "source": []
  }
 ],
 "metadata": {
  "kernelspec": {
   "display_name": "Python 3",
   "language": "python",
   "name": "python3"
  },
  "language_info": {
   "codemirror_mode": {
    "name": "ipython",
    "version": 3
   },
   "file_extension": ".py",
   "mimetype": "text/x-python",
   "name": "python",
   "nbconvert_exporter": "python",
   "pygments_lexer": "ipython3",
   "version": "3.7.5"
  }
 },
 "nbformat": 4,
 "nbformat_minor": 2
}
